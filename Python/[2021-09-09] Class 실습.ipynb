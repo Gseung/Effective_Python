{
 "cells": [
  {
   "cell_type": "markdown",
   "id": "commercial-fields",
   "metadata": {},
   "source": [
    "# Class\n",
    "\n",
    "\n",
    "클래스란? 자료형을 쓸 때, 재사용성을 위해 사용한다. 하나의 자료형 구조를 가지고 새로운 것을 덧붙여서 사용하기 위해 쓴다.  \n",
    "클래스는 틀이다!!! 왜 사용할까? 반복을 줄이기 위해서, 더 파생시켜서 다른 기능이나 특성을 추가하고 싶을 때 사용한다.  "
   ]
  },
  {
   "cell_type": "code",
   "execution_count": 1,
   "id": "infectious-passion",
   "metadata": {},
   "outputs": [],
   "source": [
    "class Student:\n",
    "    id = 20210909\n",
    "    name = \"김국진\""
   ]
  },
  {
   "cell_type": "code",
   "execution_count": 2,
   "id": "speaking-cleaners",
   "metadata": {},
   "outputs": [
    {
     "name": "stdout",
     "output_type": "stream",
     "text": [
      "20210909\n",
      "김국진\n"
     ]
    }
   ],
   "source": [
    "student = Student()\n",
    "\n",
    "print(student.id)\n",
    "print(student.name)"
   ]
  },
  {
   "cell_type": "code",
   "execution_count": 3,
   "id": "leading-patent",
   "metadata": {},
   "outputs": [],
   "source": [
    "a = 1"
   ]
  },
  {
   "cell_type": "code",
   "execution_count": 9,
   "id": "continuing-christmas",
   "metadata": {},
   "outputs": [],
   "source": [
    "class Student:\n",
    "    # 멤버변수 : 클래스의 내부변수\n",
    "    _id = None\n",
    "    name = None\n",
    "    \n",
    "    # 생성자\n",
    "    # 생성자는 객체가 생성될 때 최초로 호출되는 함수이다. 멤버변수를 초기화할 때 주로 사용합니다. \n",
    "    def __init__(self, _id, name):\n",
    "        self._id = _id\n",
    "        self.name = name\n",
    "        "
   ]
  },
  {
   "cell_type": "code",
   "execution_count": 11,
   "id": "antique-lingerie",
   "metadata": {},
   "outputs": [
    {
     "name": "stdout",
     "output_type": "stream",
     "text": [
      "True\n",
      "<class 'int'>\n",
      "False\n",
      "20210909\n",
      "김국진\n"
     ]
    }
   ],
   "source": [
    "stu = Student(20210909, \"김국진\")\n",
    "stu2 = Student(20210910, \"김지현\")\n",
    "\n",
    "# stu를 Student 클래스의 인스턴스라고 한다. \n",
    "# Class를 통해서 생성되는 오브젝트를 인스턴스라고 한다. \n",
    "# 붕어빵틀 = Stduent Class\n",
    "# 붕어빵 = stu, stu2\n",
    "\n",
    "a = 3\n",
    "\n",
    "print(isinstance(stu, Student))\n",
    "print(type(a))\n",
    "print(isinstance(a, Student))\n",
    "\n",
    "\n",
    "# . 멤버접근연산자. 이를 통해서 클래스 내부의 변수나 함수에 접근할 수 있습니다. \n",
    "print(stu._id)\n",
    "print(stu.name)"
   ]
  },
  {
   "cell_type": "code",
   "execution_count": 12,
   "id": "neural-software",
   "metadata": {},
   "outputs": [
    {
     "name": "stdout",
     "output_type": "stream",
     "text": [
      "94711383104400\n",
      "94711357440704\n"
     ]
    }
   ],
   "source": [
    "# id는 메모리 주소를 알려주는 파이썬 내부 함수\n",
    "\n",
    "print(id(Student))\n",
    "print(id(a))\n"
   ]
  },
  {
   "cell_type": "code",
   "execution_count": 15,
   "id": "adopted-arctic",
   "metadata": {},
   "outputs": [],
   "source": [
    "class Student:\n",
    "    # 멤버변수 : 클래스의 내부변수\n",
    "    \n",
    "    # 멤버변수의 속성에는 public, protected, private\n",
    "    \n",
    "    _id = None  # protected\n",
    "    name = None  # public\n",
    "    __age = None  # private\n",
    "    __password = None\n",
    "    \n",
    "    # 생성자\n",
    "    # 생성자는 객체가 생성될 때 최초로 호출되는 함수이다. 멤버변수를 초기화할 때 주로 사용합니다.\n",
    "    def __init__(self, _id, name, age):\n",
    "        self._id = _id\n",
    "        self.name = name\n",
    "        self.__age = age\n",
    "        \n",
    "    # 메소드 : 클래스 내부의 함수\n",
    "    # id 멤버변수를 변경한다.\n",
    "    def set_id(self, _id):\n",
    "        self._id = _id\n",
    "        \n",
    "    # age 멤버변수를 반환한다.\n",
    "    def get_age(self):\n",
    "        return self.__age"
   ]
  },
  {
   "cell_type": "code",
   "execution_count": 16,
   "id": "wooden-registration",
   "metadata": {},
   "outputs": [
    {
     "name": "stdout",
     "output_type": "stream",
     "text": [
      "20210909\n",
      "1234\n"
     ]
    }
   ],
   "source": [
    "stu = Student(20210909, \"김국진\", 900)\n",
    "print(stu._id)\n",
    "stu.set_id(1234)\n",
    "print(stu._id)"
   ]
  },
  {
   "cell_type": "code",
   "execution_count": 17,
   "id": "roman-bradford",
   "metadata": {},
   "outputs": [
    {
     "name": "stdout",
     "output_type": "stream",
     "text": [
      "900\n"
     ]
    }
   ],
   "source": [
    "print(stu.get_age())"
   ]
  },
  {
   "cell_type": "markdown",
   "id": "third-dublin",
   "metadata": {},
   "source": [
    "클래스의 멤버변수, 생성자, 메소드, 멤버접근 연산자, 인스턴스  \n",
    "위 개념들이 뭔지 다 알고 있어야 좋은 프로그램을 개발할 수 있습니다!!  "
   ]
  },
  {
   "cell_type": "code",
   "execution_count": 19,
   "id": "labeled-brook",
   "metadata": {},
   "outputs": [],
   "source": [
    "class DoorLock:\n",
    "    def __init__(self, name, pw):\n",
    "        self.name = name\n",
    "        self.pw = pw\n",
    "        \n",
    "    def open_door(self, name, pw):\n",
    "        # 구현\n",
    "        # 이 함수는 name과 pw를 멤버변수와 비교합니다.\n",
    "        # 조건문을 이용해서 함수를 호출하면 문이 열렸는지\n",
    "        # 안열렸는지를 True, False로 반환하는 함수를 작성해보세요!!\n",
    "        \n",
    "        opend = None\n",
    "        if self.name == name and self.pw == pw:\n",
    "            opened = True\n",
    "        else:\n",
    "            opened = False\n",
    "            \n",
    "        return opened\n",
    "    \n",
    "        # return self.name == name and self.pw == pw\n",
    "            "
   ]
  },
  {
   "cell_type": "code",
   "execution_count": 20,
   "id": "earlier-steam",
   "metadata": {},
   "outputs": [
    {
     "name": "stdout",
     "output_type": "stream",
     "text": [
      "False\n",
      "True\n"
     ]
    }
   ],
   "source": [
    "door = DoorLock(\"김국진\", 1234)\n",
    "print(door.open_door(\"윤준영\", 1111))\n",
    "print(door.open_door(\"김국진\", 1234))\n"
   ]
  },
  {
   "cell_type": "code",
   "execution_count": 21,
   "id": "going-minnesota",
   "metadata": {},
   "outputs": [
    {
     "data": {
      "text/plain": [
       "True"
      ]
     },
     "execution_count": 21,
     "metadata": {},
     "output_type": "execute_result"
    }
   ],
   "source": [
    "True"
   ]
  },
  {
   "cell_type": "code",
   "execution_count": null,
   "id": "postal-payday",
   "metadata": {},
   "outputs": [],
   "source": []
  }
 ],
 "metadata": {
  "kernelspec": {
   "display_name": "Python 3",
   "language": "python",
   "name": "python3"
  },
  "language_info": {
   "codemirror_mode": {
    "name": "ipython",
    "version": 3
   },
   "file_extension": ".py",
   "mimetype": "text/x-python",
   "name": "python",
   "nbconvert_exporter": "python",
   "pygments_lexer": "ipython3",
   "version": "3.7.9"
  }
 },
 "nbformat": 4,
 "nbformat_minor": 5
}
