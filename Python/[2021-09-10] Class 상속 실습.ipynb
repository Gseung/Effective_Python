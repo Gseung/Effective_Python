{
 "cells": [
  {
   "cell_type": "markdown",
   "id": "fifteen-republic",
   "metadata": {},
   "source": [
    "# 클래스 핵심 개념\n",
    "\n",
    "    1. 멤버변수  \n",
    "    2. 생성자  \n",
    "    3. 메소드  \n",
    "    4. 멤버 접근 연산자  \n",
    "    5. 인스턴스  \n",
    "    6. 멤버변수의 속성 (private, public)  "
   ]
  },
  {
   "cell_type": "code",
   "execution_count": 1,
   "id": "informal-spectrum",
   "metadata": {},
   "outputs": [],
   "source": [
    "class Student:\n",
    "    \n",
    "    def __init__(self, ID, Name):\n",
    "        self.__id = ID\n",
    "        self.__name = Name\n",
    "        \n",
    "    def set_id(self, ID):\n",
    "        self.__id = ID\n",
    "        \n",
    "    def set_name(self, Name):\n",
    "        self.__name = Name\n",
    "        \n",
    "    def get_name(self):\n",
    "        return self.__name\n",
    "    \n",
    "    def get_id(self):\n",
    "        return self.__id\n",
    "    \n",
    "    # 매직 메소드.\n",
    "    def __str__(self):\n",
    "        msg = f\"id:{self.__id}, name:{self.__name}\"\n",
    "        return msg\n",
    "    \n",
    "    def __eq__(self, other):\n",
    "        if self.__id == other.__id and self.__name == other.__name:\n",
    "            return True\n",
    "        else:\n",
    "            return False\n"
   ]
  },
  {
   "cell_type": "code",
   "execution_count": 2,
   "id": "corporate-seeker",
   "metadata": {},
   "outputs": [
    {
     "name": "stdout",
     "output_type": "stream",
     "text": [
      "윤준영\n",
      "서정욱\n",
      "False\n",
      "True\n"
     ]
    }
   ],
   "source": [
    "student = Student(1111, \"윤준영\")\n",
    "student2 = Student(1112, \"서정욱\")\n",
    "student3 = Student(1111, \"윤준영\")\n",
    "\n",
    "print(student.get_name())\n",
    "print(student2.get_name())\n",
    "\n",
    "print(student == student2)\n",
    "print(student == student3)"
   ]
  },
  {
   "cell_type": "markdown",
   "id": "architectural-dialogue",
   "metadata": {},
   "source": [
    "\\__str__ 메서드 사용하면 아래와 같이 간단하게 나타낼 수 있다.  \n",
    "매직메소드 확인하는 방법: dir(object)"
   ]
  },
  {
   "cell_type": "code",
   "execution_count": 4,
   "id": "animal-wheat",
   "metadata": {},
   "outputs": [
    {
     "name": "stdout",
     "output_type": "stream",
     "text": [
      "id:1111, name:윤준영\n"
     ]
    }
   ],
   "source": [
    "print(student)"
   ]
  },
  {
   "cell_type": "code",
   "execution_count": 5,
   "id": "curious-zoning",
   "metadata": {},
   "outputs": [
    {
     "data": {
      "text/plain": [
       "['__class__',\n",
       " '__delattr__',\n",
       " '__dir__',\n",
       " '__doc__',\n",
       " '__eq__',\n",
       " '__format__',\n",
       " '__ge__',\n",
       " '__getattribute__',\n",
       " '__gt__',\n",
       " '__hash__',\n",
       " '__init__',\n",
       " '__init_subclass__',\n",
       " '__le__',\n",
       " '__lt__',\n",
       " '__ne__',\n",
       " '__new__',\n",
       " '__reduce__',\n",
       " '__reduce_ex__',\n",
       " '__repr__',\n",
       " '__setattr__',\n",
       " '__sizeof__',\n",
       " '__str__',\n",
       " '__subclasshook__']"
      ]
     },
     "execution_count": 5,
     "metadata": {},
     "output_type": "execute_result"
    }
   ],
   "source": [
    "dir(object)"
   ]
  },
  {
   "cell_type": "markdown",
   "id": "major-blank",
   "metadata": {},
   "source": [
    "## 상속\n",
    "상속을 하는 이유 : 코드를 재화용하고 싶어서  \n",
    "상속 방법: 클래스의 인자에 부모 클래스를 넣는다."
   ]
  },
  {
   "cell_type": "code",
   "execution_count": 10,
   "id": "vocal-marble",
   "metadata": {},
   "outputs": [],
   "source": [
    "class GraduatedStudent(Student):\n",
    "    \n",
    "    def __init__(self, ID, Name, Year):\n",
    "        self.__graduatedYear = Year\n",
    "        # Student().\n",
    "        super().__init__(ID, Name)\n",
    "        \n",
    "    # 메소드 오버라이딩 method overriding\n",
    "    # 부모 클래스에 있는 메소드를 자식 클래스에서 재정의\n",
    "    def __str__(self):\n",
    "        msg = super().__str__() + f\", 졸업년도 : {self.__graduatedYear}\"\n",
    "        return msg\n",
    "    "
   ]
  },
  {
   "cell_type": "code",
   "execution_count": 11,
   "id": "saving-berlin",
   "metadata": {},
   "outputs": [
    {
     "name": "stdout",
     "output_type": "stream",
     "text": [
      "id:1234, name:고승일, 졸업년도 : 2200\n"
     ]
    }
   ],
   "source": [
    "gradStu = GraduatedStudent(1234, \"고승일\", \"2200\")\n",
    "gradStu.get_id()\n",
    "\n",
    "print(gradStu)"
   ]
  },
  {
   "cell_type": "code",
   "execution_count": 18,
   "id": "described-potter",
   "metadata": {},
   "outputs": [],
   "source": [
    "# x, y 좌표를 저장하는 클래스를 만드세요\n",
    "# x, y 값을 setter를 통해 할당하고, getter를 통해 가져옵니다.\n",
    "# print를 통해\n",
    "# setter의 경우 인스턴스의 멤버변수를 변경하고 싶을 때 사용합니다.\n",
    "\n",
    "class Point2D:\n",
    "    \n",
    "    def __init__(self, x, y):\n",
    "        self.__x = x\n",
    "        self.__y = y\n",
    "    \n",
    "    def set_coord(self, x, y):\n",
    "        self.__x = x\n",
    "        self.__y = y\n",
    "    \n",
    "    def get_x(self):\n",
    "        return self.__x\n",
    "    \n",
    "    def get_y(self):\n",
    "        return self.__y\n",
    "    \n",
    "    def get_coord(self):\n",
    "        return (x, y)\n",
    "#         return (self.__x, self.__y)\n",
    "        \n",
    "    \n",
    "    def __str__(self):\n",
    "        msg = f\"({self.__x}, {self.__y})\"\n",
    "        return msg\n",
    "    \n",
    "    # 연산자 오버라이딩\n",
    "    def __add__(self, other):\n",
    "        # 같은 클래스이기 때문에 private임에도 접근 가능\n",
    "        self.__x = self.__x + other.__x\n",
    "        self.__y = self.__y + other.__y\n",
    "        return self\n",
    "        "
   ]
  },
  {
   "cell_type": "code",
   "execution_count": 19,
   "id": "controversial-internship",
   "metadata": {},
   "outputs": [
    {
     "name": "stdout",
     "output_type": "stream",
     "text": [
      "(1, -1)\n",
      "(0, 0)\n"
     ]
    }
   ],
   "source": [
    "pt = Point2D(1, -1)\n",
    "pt2 = Point2D(-1, 1)\n",
    "print(pt)\n",
    "\n",
    "pt3 = pt + pt2\n",
    "print(pt)\n",
    "\n"
   ]
  },
  {
   "cell_type": "markdown",
   "id": "several-shooting",
   "metadata": {},
   "source": [
    "Point2D 클래스를 상속받아서  \n",
    "Point3D 클래스를 만들어보세요  \n",
    "마찬가지로 setter와 getter가 존재하고  \n",
    "setter와 getter도 오버라이딩 해야합니다  \n",
    "str 메소드를 오버라이딩 합니다."
   ]
  },
  {
   "cell_type": "code",
   "execution_count": 23,
   "id": "italic-synthesis",
   "metadata": {},
   "outputs": [],
   "source": [
    "class Point3D(Point2D):\n",
    "    # 힌트 메소드 오버라이딩은 자식 클래스에서\n",
    "    # 부모 메소드를 재정의\n",
    "    def __init__(self, x, y, z):\n",
    "        super().__init__(x,y)\n",
    "        self.__x = super().get_x()\n",
    "        self.__y = super().get_y()\n",
    "        self.__z = z\n",
    "    \n",
    "#     def get_x(self):\n",
    "#         return self.__x\n",
    "    \n",
    "#     def get_y(self):\n",
    "#         return self.__y\n",
    "    \n",
    "    def get_z(self):\n",
    "        return self.__z\n",
    "    \n",
    "    def set_coord(self, x, y, z):\n",
    "        self.__x = x\n",
    "        self.__x = x\n",
    "        self.__z = z\n",
    "        \n",
    "    def get_coord(self):\n",
    "        return (self.__x, self.__y, self.__z)\n",
    "        \n",
    "    def __str__(self):\n",
    "        msg = f\"({self.__x}, {self.__y}, {self.__z})\"\n",
    "        return msg\n",
    "    \n",
    "    def __add__(self, other):\n",
    "        self.__x = self.get_x() + other.get_x()\n",
    "        self.__y = self.get_y() + other.get_y()\n",
    "        self.__z = self.get_z() + other.get_z()\n",
    "        return self\n",
    "        "
   ]
  },
  {
   "cell_type": "code",
   "execution_count": 24,
   "id": "ahead-harvest",
   "metadata": {},
   "outputs": [
    {
     "name": "stdout",
     "output_type": "stream",
     "text": [
      "(1, 1, 1)\n",
      "(0, 0, 0)\n"
     ]
    }
   ],
   "source": [
    "pt = Point3D(1, 1, 1)\n",
    "print(pt)\n",
    "pt2 = Point3D(-1, -1, -1)\n",
    "pt3 = pt + pt2\n",
    "print(pt3)"
   ]
  },
  {
   "cell_type": "code",
   "execution_count": null,
   "id": "multiple-brazilian",
   "metadata": {},
   "outputs": [],
   "source": []
  }
 ],
 "metadata": {
  "kernelspec": {
   "display_name": "Python 3",
   "language": "python",
   "name": "python3"
  },
  "language_info": {
   "codemirror_mode": {
    "name": "ipython",
    "version": 3
   },
   "file_extension": ".py",
   "mimetype": "text/x-python",
   "name": "python",
   "nbconvert_exporter": "python",
   "pygments_lexer": "ipython3",
   "version": "3.7.9"
  }
 },
 "nbformat": 4,
 "nbformat_minor": 5
}
